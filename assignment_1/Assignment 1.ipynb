{
 "cells": [
  {
   "cell_type": "markdown",
   "metadata": {},
   "source": [
    "Import required packages"
   ]
  },
  {
   "cell_type": "code",
   "execution_count": 19,
   "metadata": {},
   "outputs": [],
   "source": [
    "import numpy as np\n",
    "import pandas as pd"
   ]
  },
  {
   "cell_type": "markdown",
   "metadata": {},
   "source": [
    "Collect the feature names and the output name"
   ]
  },
  {
   "cell_type": "code",
   "execution_count": 28,
   "metadata": {
    "scrolled": false
   },
   "outputs": [
    {
     "name": "stdout",
     "output_type": "stream",
     "text": [
      "Feature names:\n",
      " ['age', 'workclass', 'fnlwgt', 'education', 'education-num', 'marital-status', 'occupation', 'relationship', 'race', 'sex', 'capital-gain', 'capital-loss', 'hours-per-week', 'native-country'] \n",
      "\n",
      "Output name:\n",
      " >50K, <=50K\n"
     ]
    }
   ],
   "source": [
    "features = []\n",
    "output = ''\n",
    "\n",
    "with open('adult.names') as infile:\n",
    "    info = infile.readlines()\n",
    "    output = info[94][:-2]\n",
    "    for line in info[96:]:\n",
    "        words = line.split()\n",
    "        features.append(words[0])\n",
    "        \n",
    "        \n",
    "for i in range(len(features)):\n",
    "    features[i] = features[i][:-1]\n",
    "        \n",
    "print(\"Feature names:\\n\", features, '\\n')\n",
    "print(\"Output name:\\n\", output)"
   ]
  },
  {
   "cell_type": "markdown",
   "metadata": {},
   "source": [
    "Read the data from file"
   ]
  },
  {
   "cell_type": "code",
   "execution_count": 29,
   "metadata": {
    "scrolled": true
   },
   "outputs": [],
   "source": [
    "df = pd.read_csv('adult.data')\n",
    "df.columns = features + [output]"
   ]
  },
  {
   "cell_type": "code",
   "execution_count": 30,
   "metadata": {},
   "outputs": [
    {
     "name": "stdout",
     "output_type": "stream",
     "text": [
      "<class 'pandas.core.frame.DataFrame'>\n",
      "RangeIndex: 32560 entries, 0 to 32559\n",
      "Data columns (total 15 columns):\n",
      " #   Column          Non-Null Count  Dtype \n",
      "---  ------          --------------  ----- \n",
      " 0   age             32560 non-null  int64 \n",
      " 1   workclass       32560 non-null  object\n",
      " 2   fnlwgt          32560 non-null  int64 \n",
      " 3   education       32560 non-null  object\n",
      " 4   education-num   32560 non-null  int64 \n",
      " 5   marital-status  32560 non-null  object\n",
      " 6   occupation      32560 non-null  object\n",
      " 7   relationship    32560 non-null  object\n",
      " 8   race            32560 non-null  object\n",
      " 9   sex             32560 non-null  object\n",
      " 10  capital-gain    32560 non-null  int64 \n",
      " 11  capital-loss    32560 non-null  int64 \n",
      " 12  hours-per-week  32560 non-null  int64 \n",
      " 13  native-country  32560 non-null  object\n",
      " 14  >50K, <=50K     32560 non-null  object\n",
      "dtypes: int64(6), object(9)\n",
      "memory usage: 3.7+ MB\n"
     ]
    }
   ],
   "source": [
    "df.info()"
   ]
  },
  {
   "cell_type": "markdown",
   "metadata": {},
   "source": [
    "| Continuous (N = 32560) |  Mean (SD) |  Median (IQR) |  Min to Max |\n",
    "|---|---|---|---|\n",
    "|  Age (years) | 30.6 (13.6)  | 37 (28-48)  |  17-90 |\n",
    "| Education number (years)  | 10.1 (2.6)  |  10 (9-12)  | 1-16  |\n",
    "|  Capital gain | 1077.6 (7385.4)  |  0 (0-0) | 0-99999  |\n",
    "|  Capital loss | 87.3 (403.0) | 0 (0-0)  |  0-4356 |\n",
    "| Hours per week   | 40.4 (12.3)  | 40 (40-45)  |  1-99 |\n",
    "\n",
    "<hr style=\"border:2px solid gray\"> </hr>\n",
    "\n",
    "| Categorical | N/32560 (%)  |\n",
    "|---|---|\n",
    "|  **Work** |   |\n",
    "| Private  |  |\n",
    "|  Self-employed, not inc. |   |\n",
    "|  Self-employed, inc. |   |\n",
    "| Federal government  |   |\n",
    "| Local government  |   |\n",
    "|  State government |   |\n",
    "|  Without pay |   |\n",
    "| Never worked  |   |\n",
    "| | |\n",
    "|  **Education** |   |\n",
    "|Bachelors | |\n",
    "|Some college | |\n",
    "|11th grade | |\n",
    "|High school | |\n",
    "| Professional school| |\n",
    "|Assoc-acdm | |\n",
    "|Assoc-voc | |\n",
    "|9th grade | |\n",
    "|7th-8th grade | |\n",
    "|12th grade | |\n",
    "|Masters | |\n",
    "| 1st-4th grade| |\n",
    "| 10th grade| |\n",
    "|Doctorate | |\n",
    "|5th-6th grade | |\n",
    "|Preschool | |\n",
    "| | |\n",
    "|**Marital status** | |\n",
    "|Married-civ-spouse | |\n",
    "|Divorced | |\n",
    "|Never-married | |\n",
    "| Separated| |\n",
    "|Widowed | |\n",
    "|Married-spouse-absent | |\n",
    "|Married-AF-spouse | |\n",
    "| | |\n",
    "| **Relationship**| |\n",
    "|Wife | |\n",
    "| Own-child| |\n",
    "|Husband | |\n",
    "|Not in family | |\n",
    "| Other relative| |\n",
    "| Unmarried| |\n",
    "| | |\n",
    "|**Occupation** | |\n",
    "|Tech-support | |\n",
    "| Craft-repair| |\n",
    "|Other-service | |\n",
    "| Sales| |\n",
    "| Exec-managerial| |\n",
    "|Prof-specialty | |\n",
    "|Handlers | |\n",
    "|Machine-op-inspct | |\n",
    "|Adm-clerical | |\n",
    "|Farming-fishing | |\n",
    "|Transport-moving | |\n",
    "| Priv-house-serv| |\n",
    "|Protective-serv | |\n",
    "| Armed-Forces| |\n",
    "| | |\n",
    "|**Race** | |\n",
    "|White | |\n",
    "| Asian Pacific islander| |\n",
    "| American Indian eskimo| |\n",
    "| Other| |\n",
    "|Black | |\n",
    "| | |\n",
    "| **Sex**| |\n",
    "| Female| |\n",
    "| Male| |\n",
    "| | |\n",
    "| **Native country**| |\n",
    "| United-States| |\n",
    "|Cambodia | |\n",
    "|England | |\n",
    "|Puerto Rico | |\n",
    "|Canada | |\n",
    "| Germany| |\n",
    "|Outlying-US (Guam, USVI, etc.) | |\n",
    "| India| |\n",
    "| Japan| |\n",
    "|Greece | |\n",
    "| South| |\n",
    "| China| |\n",
    "| Cuba| |\n",
    "|Iran| |\n",
    "| Honduras| |\n",
    "| Philippines| |\n",
    "|Italy | |\n",
    "|Poland | |\n",
    "|Jamaica | |\n",
    "| Vietnam| |\n",
    "| Mexico| |\n",
    "|Portugal | |\n",
    "|Ireland | |\n",
    "| France| |\n",
    "|Dominican Republic | |\n",
    "|Laos | |\n",
    "|Ecuador | |\n",
    "|Taiwan | |\n",
    "|Haiti | |\n",
    "| Columbia| |\n",
    "|Hungary | |\n",
    "|Guatemala | |\n",
    "|Nicaragua | |\n",
    "|Scotland | |\n",
    "| Thailand| |\n",
    "|Yugoslavia | |\n",
    "|El-Salvador | |\n",
    "|Trinadad & Tobago | |\n",
    "|Peru | |\n",
    "|Hong | |\n",
    "| Netherlands| |\n",
    "| | |\n",
    "|**Income**< | |\n",
    "|\\>50k | |\n",
    "|<=50k | |\n",
    "| | |\n",
    "\n"
   ]
  },
  {
   "cell_type": "code",
   "execution_count": null,
   "metadata": {},
   "outputs": [],
   "source": []
  }
 ],
 "metadata": {
  "kernelspec": {
   "display_name": "Python 3",
   "language": "python",
   "name": "python3"
  },
  "language_info": {
   "codemirror_mode": {
    "name": "ipython",
    "version": 3
   },
   "file_extension": ".py",
   "mimetype": "text/x-python",
   "name": "python",
   "nbconvert_exporter": "python",
   "pygments_lexer": "ipython3",
   "version": "3.8.3"
  }
 },
 "nbformat": 4,
 "nbformat_minor": 4
}
