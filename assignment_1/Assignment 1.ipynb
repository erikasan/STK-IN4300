{
 "cells": [
  {
   "cell_type": "markdown",
   "metadata": {},
   "source": [
    "Import required packages"
   ]
  },
  {
   "cell_type": "code",
   "execution_count": null,
   "metadata": {},
   "outputs": [],
   "source": [
    "%matplotlib inline\n",
    "import numpy as np\n",
    "import pandas as pd\n",
    "import matplotlib.pyplot as plt\n",
    "import seaborn as sns"
   ]
  },
  {
   "cell_type": "markdown",
   "metadata": {},
   "source": [
    "Collect the feature names and the output name"
   ]
  },
  {
   "cell_type": "code",
   "execution_count": null,
   "metadata": {
    "scrolled": false
   },
   "outputs": [],
   "source": [
    "features = []\n",
    "output = ''\n",
    "\n",
    "with open('adult.names') as infile:\n",
    "    info = infile.readlines()\n",
    "    output = info[94][:-2]\n",
    "    for line in info[96:]:\n",
    "        words = line.split()\n",
    "        features.append(words[0])\n",
    "        \n",
    "        \n",
    "for i in range(len(features)):\n",
    "    features[i] = features[i][:-1]\n",
    "        \n",
    "print(\"Feature names:\\n\", features, '\\n')\n",
    "print(\"Output name:\\n\", output)"
   ]
  },
  {
   "cell_type": "markdown",
   "metadata": {},
   "source": [
    "Read the data from file"
   ]
  },
  {
   "cell_type": "code",
   "execution_count": null,
   "metadata": {
    "scrolled": true
   },
   "outputs": [],
   "source": [
    "df = pd.read_csv('adult.data')\n",
    "df.columns = features + [output]"
   ]
  },
  {
   "cell_type": "markdown",
   "metadata": {},
   "source": [
    "\n",
    "### Problem 1. Table\n",
    "\n",
    "\n",
    "| Continuous (N = 32560) |  Mean (SD) |  Median (IQR) |  Min to Max |\n",
    "|---|---|---|---|\n",
    "|  Age (years) | 30.6 (13.6)  | 37 (28-48)  |  17-90 |\n",
    "| Education number (years)  | 10.1 (2.6)  |  10 (9-12)  | 1-16  |\n",
    "|  Capital gain<sup>a</sup> | 1077.6 (7385.4)  |  0 (0-0) | 0-99999  |\n",
    "|  Capital loss<sup>a</sup> | 87.3 (403.0) | 0 (0-0)  |  0-4356 |\n",
    "| Hours per week   | 40.4 (12.3)  | 40 (40-45)  |  1-99 |\n",
    "\n",
    "\n",
    "<p style=\"text-align: center;\">SD: standard deviation; IQR: interquartile range; Min: minimum; Max: maximum</p>\n",
    "\n",
    "<p style=\"text-align: center;\"><sup>a</sup>Presumably measured in USD</p>\n",
    "\n",
    "\n",
    "<p style=\"text-align: center;\"><sup>b</sup>Percentages do not necessarily add up to 1 due to missing values </p>\n",
    "\n",
    "| Categorical | N/32560 (%<sup>b</sup>)  |\n",
    "|---|---|\n",
    "|  **Work** |   |\n",
    "| Private  | 22696 (69.7) |\n",
    "|  Self-employed, not inc. | 2541 (7.8) |\n",
    "|  Self-employed, inc. |  1116 (3.4)|\n",
    "| Federal government  |  960 (2.9)|\n",
    "| Local government  |  2093 (6.4)|\n",
    "|  State government |  1297 (4.0)|\n",
    "|  Without pay |  14 (0.0)|\n",
    "| Never worked  |  7 (0.0)|\n",
    "| | |\n",
    "|  **Education** |   |\n",
    "|Bachelors |5354 (16.4) |\n",
    "|Some college |7291 (22.4)|\n",
    "|11th grade | 1175 (3.6)|\n",
    "|High school | 10501 (32.3)|\n",
    "| Professional school|576 (1.8)|\n",
    "|Assoc-acdm |1067 (3.3) |\n",
    "|Assoc-voc | 1382 (4.2)|\n",
    "|9th grade |514 (1.6)|\n",
    "|7th-8th grade | 646 (2.0)|\n",
    "|12th grade |433 (1.3)|\n",
    "|Masters | 1723 (5.3)|\n",
    "| 1st-4th grade| 168 (0.5)|\n",
    "| 10th grade| 933 (2.9)|\n",
    "|Doctorate | 413 (1.3)|\n",
    "|5th-6th grade |333 (1.0)|\n",
    "|Preschool |51 (0.2)|\n",
    "| | |\n",
    "|**Marital status** | |\n",
    "|Married-civ-spouse | 14976 (46.0)|\n",
    "|Divorced |4443 (13.6)|\n",
    "|Never-married |10682 (32.8)|\n",
    "| Separated|1025 (3.1)|\n",
    "|Widowed | 993 (3.0)|\n",
    "|Married-spouse-absent |418 (1.3)|\n",
    "|Married-AF-spouse |23 (0.1)|\n",
    "| | |\n",
    "| **Relationship**| |\n",
    "|Wife |1568 (4.8)|\n",
    "| Own-child|5068 (15.6)|\n",
    "|Husband | 13193 (40.5)|\n",
    "|Not in family |8304 (25.5)|\n",
    "| Other relative| 981 (3.0)|\n",
    "| Unmarried|3446 (10.6)|\n",
    "| | |\n",
    "|**Occupation** | |\n",
    "|Tech-support |928 (2.3)|\n",
    "| Craft-repair| 4099 (12.6)|\n",
    "|Other-service |3295 (10.1)|\n",
    "| Sales| 3650 (11.2)|\n",
    "| Exec-managerial| 4066 (12.5)|\n",
    "|Prof-specialty |4140 (12.7)|\n",
    "|Handlers-cleaners |1370 (4.2)|\n",
    "|Machine-op-inspct | 2002 (6.1)|\n",
    "|Adm-clerical | 3769 (11.6)|\n",
    "|Farming-fishing |994 (3.0)|\n",
    "|Transport-moving |1597 (4.9)|\n",
    "| Priv-house-serv|149 (0.5)|\n",
    "|Protective-serv |649 (2.0)|\n",
    "| Armed-Forces|9 (0.0)|\n",
    "| | |\n",
    "|**Race** | |\n",
    "|White |27815 (85.4) |\n",
    "| Asian Pacific islander|1039 (3.2)|\n",
    "| American Indian eskimo| 311 (1.0)|\n",
    "| Other|271 (0.8)|\n",
    "|Black |3124 (9.6)|\n",
    "| | |\n",
    "| **Sex**| |\n",
    "| Female|10771 (33.1)|\n",
    "| Male| 21789 (66.9)|\n",
    "| | |\n",
    "| **Native country**| |\n",
    "| United-States|29169 (89.6)|\n",
    "|Cambodia | 19 (0.1)|\n",
    "|England | 90 (0.3)|\n",
    "|Puerto Rico | 114 (0.4)|\n",
    "|Canada |121 (0.4)|\n",
    "| Germany| 137 (0.4)|\n",
    "|Outlying-US (Guam, USVI, etc.) |14 (0.0)|\n",
    "| India| 100 (0.3)|\n",
    "| Japan| 62 (0.2)|\n",
    "|Greece |29 (0.1)|\n",
    "| South|80 (0.2)|\n",
    "| China| 75 (0.2)|\n",
    "| Cuba| 95 (0.3)|\n",
    "|Iran|43 (0.1)|\n",
    "| Honduras|13 (0.0)|\n",
    "| Philippines|198 (0.6)|\n",
    "|Italy | 73 (0.2)|\n",
    "|Poland | 60 (0.2)|\n",
    "|Jamaica |81 (0.2)|\n",
    "| Vietnam|67 (0.2)|\n",
    "| Mexico| 643 (2.0)|\n",
    "|Portugal |37 (0.1)|\n",
    "|Ireland |24 (0.1)|\n",
    "| France|29 (0.1)|\n",
    "|Dominican Republic |70 (0.2)|\n",
    "|Laos |18 (0.1)|\n",
    "|Ecuador |28 (0.1)|\n",
    "|Taiwan |51 (0.2)|\n",
    "|Haiti | 44 (0.1)|\n",
    "| Columbia| 59 (0.2)|\n",
    "|Hungary |13 (0.0)|\n",
    "|Guatemala |64 (0.2)|\n",
    "|Nicaragua | 34 (0.1)|\n",
    "|Scotland |12 (0.0)|\n",
    "| Thailand|18 (0.1)|\n",
    "|Yugoslavia |16 (0.0)|\n",
    "|El-Salvador |106 (0.3)|\n",
    "|Trinadad & Tobago |19 (0.1)|\n",
    "|Peru |31 (0.1)|\n",
    "|Hong |20 (0.1)|\n",
    "| Netherlands|1 (0.0)|\n",
    "| | |\n",
    "|**Income** | |\n",
    "|\\>50k |7841 (24.1)|\n",
    "|<=50k | 24719 (75.9)|\n",
    "\n",
    "\n"
   ]
  },
  {
   "cell_type": "markdown",
   "metadata": {},
   "source": [
    "### Problem 2. Bad Figures"
   ]
  },
  {
   "cell_type": "code",
   "execution_count": null,
   "metadata": {},
   "outputs": [],
   "source": [
    "#sns.set()\n",
    "#sns.scatterplot(data=df, x='age', y='hours-per-week', hue='sex')\n",
    "#plt.show()"
   ]
  },
  {
   "cell_type": "code",
   "execution_count": null,
   "metadata": {},
   "outputs": [],
   "source": [
    "sns.lineplot(data=df, x='age', y='hours-per-week', hue='sex')\n",
    "plt.show()"
   ]
  },
  {
   "cell_type": "code",
   "execution_count": null,
   "metadata": {},
   "outputs": [],
   "source": []
  }
 ],
 "metadata": {
  "kernelspec": {
   "display_name": "Python 3",
   "language": "python",
   "name": "python3"
  },
  "language_info": {
   "codemirror_mode": {
    "name": "ipython",
    "version": 3
   },
   "file_extension": ".py",
   "mimetype": "text/x-python",
   "name": "python",
   "nbconvert_exporter": "python",
   "pygments_lexer": "ipython3",
   "version": "3.8.3"
  }
 },
 "nbformat": 4,
 "nbformat_minor": 4
}
